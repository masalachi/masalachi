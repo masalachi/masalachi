{
  "cells": [
    {
      "cell_type": "markdown",
      "metadata": {
        "id": "view-in-github",
        "colab_type": "text"
      },
      "source": [
        "<a href=\"https://colab.research.google.com/github/masalachi/masalachi/blob/main/Introduction_to_Programming_class.ipynb\" target=\"_parent\"><img src=\"https://colab.research.google.com/assets/colab-badge.svg\" alt=\"Open In Colab\"/></a>"
      ]
    },
    {
      "cell_type": "markdown",
      "metadata": {
        "id": "1q-auU62wCZC"
      },
      "source": [
        "# Introduction to Programming Class"
      ]
    },
    {
      "cell_type": "markdown",
      "metadata": {
        "id": "_hE9lg_0wCZh"
      },
      "source": [
        "In this class, we are expected to achieved the following objectives.\n",
        "1. To understand the meaning programmng languages\n",
        "2. To be able to identify the different types of programming languages\n",
        "3. To be able to differentiate low level languages and higher level languages\n",
        "4. To be able to list examples of low level language and higher level langugage"
      ]
    },
    {
      "cell_type": "markdown",
      "metadata": {
        "id": "_nU2ZOWawCZo"
      },
      "source": [
        "Programming languages are languages we use to write computer programs. ie to communicate with computer, we need a language computer understood which is 0 and 1(s). A programming language is a vocabulary and set of grammatical rules for instructing a computer or computing devices to perform specific task. Programming language is divided into two namely; Low level langauge and higher level languages.\n",
        "Low level languages are machine related languages which required an asseembler to translate into machine language while higer level language is human related languages that required compiler and assembler to be translated into machine understandable lanugage.\n",
        "Example of High level languages are:\n",
        "BASIC\n",
        "C\n",
        "C++\n",
        "COBOL\n",
        "JAVA\n",
        "FORTRAN\n",
        "ADA\n",
        "PASCAL\n",
        "PYTHON\n",
        "Examples of Low level languages are:\n",
        "assembling language\n",
        "\n",
        "In the following cell, we are going look into how to use python to instruct computer todo a specific task\n",
        "for example, we want the computer to display the world \"Hello World\" on the screen.\n",
        "Type the world in the cell below and click on RUN above"
      ]
    },
    {
      "cell_type": "code",
      "execution_count": null,
      "metadata": {
        "id": "be44cejnwCZx",
        "outputId": "11b3b2a8-39d5-4600-ae64-70ffa07a851a",
        "colab": {
          "base_uri": "https://localhost:8080/",
          "height": 35
        }
      },
      "outputs": [
        {
          "output_type": "execute_result",
          "data": {
            "text/plain": [
              "'Hello World'"
            ],
            "application/vnd.google.colaboratory.intrinsic+json": {
              "type": "string"
            }
          },
          "metadata": {},
          "execution_count": 1
        }
      ],
      "source": [
        "\"Hello World\"\n",
        "#Try your own below"
      ]
    },
    {
      "cell_type": "code",
      "execution_count": null,
      "metadata": {
        "id": "6yLzsSoDwCaB",
        "colab": {
          "base_uri": "https://localhost:8080/",
          "height": 148
        },
        "outputId": "b7ac5c68-da01-4079-9044-ba06eaeec83a"
      },
      "outputs": [
        {
          "output_type": "error",
          "ename": "SyntaxError",
          "evalue": "ignored",
          "traceback": [
            "\u001b[0;36m  File \u001b[0;32m\"<ipython-input-2-a12b16f352b5>\"\u001b[0;36m, line \u001b[0;32m1\u001b[0m\n\u001b[0;31m    Good morning\u001b[0m\n\u001b[0m         ^\u001b[0m\n\u001b[0;31mSyntaxError\u001b[0m\u001b[0;31m:\u001b[0m invalid syntax\n"
          ]
        }
      ],
      "source": [
        "Good morning"
      ]
    },
    {
      "cell_type": "markdown",
      "source": [
        "At this introduction, anything you are typing for computer to display on the screen should be in \"\"."
      ],
      "metadata": {
        "id": "eJ6AVkpa2CJr"
      }
    },
    {
      "cell_type": "code",
      "source": [
        "Hello people"
      ],
      "metadata": {
        "id": "R3AW-p3J5nQi"
      },
      "execution_count": null,
      "outputs": []
    },
    {
      "cell_type": "code",
      "source": [
        "Hi Sir"
      ],
      "metadata": {
        "id": "AMr5kWFzZlHv"
      },
      "execution_count": null,
      "outputs": []
    },
    {
      "cell_type": "code",
      "source": [
        "\"Good evening everyone, sorry I was having network issue but we can have the class now, thank you\""
      ],
      "metadata": {
        "colab": {
          "base_uri": "https://localhost:8080/",
          "height": 87
        },
        "id": "9V6_5VCtf6jY",
        "outputId": "66b36807-9f5e-4cdf-bf65-fd7176fbafa1"
      },
      "execution_count": null,
      "outputs": [
        {
          "output_type": "execute_result",
          "data": {
            "text/plain": [
              "'Good evening everyone, sorry I was having network issue but we can have the class now, thank you'"
            ],
            "application/vnd.google.colaboratory.intrinsic+json": {
              "type": "string"
            }
          },
          "metadata": {},
          "execution_count": 2
        }
      ]
    },
    {
      "cell_type": "code",
      "source": [
        "# our discussion today will be on variable\n",
        "\" Hello! Anyone available\""
      ],
      "metadata": {
        "colab": {
          "base_uri": "https://localhost:8080/",
          "height": 35
        },
        "id": "cUuNHSFsgTwZ",
        "outputId": "953bb6b4-4aa0-48df-b610-04846a726f78"
      },
      "execution_count": null,
      "outputs": [
        {
          "output_type": "execute_result",
          "data": {
            "text/plain": [
              "' Hello! Anyone available'"
            ],
            "application/vnd.google.colaboratory.intrinsic+json": {
              "type": "string"
            }
          },
          "metadata": {},
          "execution_count": 4
        }
      ]
    },
    {
      "cell_type": "code",
      "source": [
        "\" As we all know, variables are attribute with a value\"\n",
        "\" for instance, Edu693 = Educational statistics\"\n",
        "#Now, let's run it.\n",
        "Edu691 = 5\n",
        "\"from the above point, it can be understood that Edu691 is a variable with a value of 5\"\n",
        "\" That process of Edu691 = 5 is called a declaration of variable\""
      ],
      "metadata": {
        "id": "LUzOhUuLhUca",
        "colab": {
          "base_uri": "https://localhost:8080/",
          "height": 70
        },
        "outputId": "b5cc4bea-329d-432f-9790-9b31f70b7f8a"
      },
      "execution_count": null,
      "outputs": [
        {
          "output_type": "execute_result",
          "data": {
            "text/plain": [
              "' That process of Edu691 = 5 is called a declaration of variable'"
            ],
            "application/vnd.google.colaboratory.intrinsic+json": {
              "type": "string"
            }
          },
          "metadata": {},
          "execution_count": 10
        }
      ]
    },
    {
      "cell_type": "code",
      "source": [
        "#try declare any variable of your choice but remember, declaration of variables has principles. That will be in our next class"
      ],
      "metadata": {
        "id": "IajPBdqJlJi0"
      },
      "execution_count": null,
      "outputs": []
    },
    {
      "cell_type": "code",
      "execution_count": null,
      "metadata": {
        "id": "-JXNHHq4wCaF"
      },
      "outputs": [],
      "source": [
        "#Click here for more"
      ]
    }
  ],
  "metadata": {
    "kernelspec": {
      "display_name": "Python 3",
      "language": "python",
      "name": "python3"
    },
    "language_info": {
      "codemirror_mode": {
        "name": "ipython",
        "version": 3
      },
      "file_extension": ".py",
      "mimetype": "text/x-python",
      "name": "python",
      "nbconvert_exporter": "python",
      "pygments_lexer": "ipython3",
      "version": "3.8.5"
    },
    "colab": {
      "provenance": [],
      "include_colab_link": true
    }
  },
  "nbformat": 4,
  "nbformat_minor": 0
}